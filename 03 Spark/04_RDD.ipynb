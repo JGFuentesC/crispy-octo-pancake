{
 "cells": [
  {
   "cell_type": "code",
   "execution_count": 2,
   "id": "b938f1eb-86b0-45cb-83e1-6b125b7e0924",
   "metadata": {},
   "outputs": [],
   "source": [
    "import findspark\n",
    "findspark.init()\n",
    "\n",
    "from pyspark.sql import SparkSession\n",
    "\n",
    "# Crear la sesión de Spark\n",
    "spark = SparkSession.builder.appName(\"Ejercicio\").getOrCreate()\n"
   ]
  },
  {
   "cell_type": "code",
   "execution_count": 3,
   "id": "05add333-4382-47ff-8f85-1cceae8dbdf3",
   "metadata": {},
   "outputs": [
    {
     "name": "stdout",
     "output_type": "stream",
     "text": [
      "Contenido del RDD:\n",
      "[('Alice', 34), ('Bob', 45), ('Cathy', 29), ('David', 41), ('Eve', 38)]\n",
      "Edad incrementada en 1 año:\n",
      "[('Alice', 35), ('Bob', 46), ('Cathy', 30), ('David', 42), ('Eve', 39)]\n",
      "Personas mayores de 35 años:\n",
      "[('Bob', 45), ('David', 41), ('Eve', 38)]\n",
      "La edad máxima es: 45\n",
      "Contenido del DataFrame:\n",
      "+------+----+\n",
      "|Nombre|Edad|\n",
      "+------+----+\n",
      "| Alice|  34|\n",
      "|   Bob|  45|\n",
      "| Cathy|  29|\n",
      "| David|  41|\n",
      "|   Eve|  38|\n",
      "+------+----+\n",
      "\n"
     ]
    }
   ],
   "source": [
    "# Crear un RDD desde una lista de Python\n",
    "datos = [(\"Alice\", 34), (\"Bob\", 45), (\"Cathy\", 29), (\"David\", 41), (\"Eve\", 38)]\n",
    "rdd = spark.sparkContext.parallelize(datos)\n",
    "\n",
    "# Mostrar los elementos del RDD\n",
    "print(\"Contenido del RDD:\")\n",
    "print(rdd.collect())\n",
    "\n",
    "# Aplicar una transformación map para incrementar la edad en 1 año\n",
    "rdd_incremento = rdd.map(lambda x: (x[0], x[1] + 1))\n",
    "print(\"Edad incrementada en 1 año:\")\n",
    "print(rdd_incremento.collect())\n",
    "\n",
    "# Filtrar las personas con edad mayor a 35 años\n",
    "rdd_filtrado = rdd.filter(lambda x: x[1] > 35)\n",
    "print(\"Personas mayores de 35 años:\")\n",
    "print(rdd_filtrado.collect())\n",
    "\n",
    "# Aplicar una reducción para encontrar la edad máxima\n",
    "edad_maxima = rdd.map(lambda x: x[1]).reduce(lambda a, b: max(a, b))\n",
    "print(f\"La edad máxima es: {edad_maxima}\")\n",
    "\n",
    "# Convertir el RDD a un DataFrame\n",
    "df = rdd.toDF([\"Nombre\", \"Edad\"])\n",
    "print(\"Contenido del DataFrame:\")\n",
    "df.show()\n"
   ]
  },
  {
   "cell_type": "code",
   "execution_count": null,
   "id": "32db2ba8-919d-459f-a264-51d63d45e51f",
   "metadata": {},
   "outputs": [],
   "source": []
  }
 ],
 "metadata": {
  "kernelspec": {
   "display_name": "Python 3 (ipykernel)",
   "language": "python",
   "name": "python3"
  },
  "language_info": {
   "codemirror_mode": {
    "name": "ipython",
    "version": 3
   },
   "file_extension": ".py",
   "mimetype": "text/x-python",
   "name": "python",
   "nbconvert_exporter": "python",
   "pygments_lexer": "ipython3",
   "version": "3.11.6"
  }
 },
 "nbformat": 4,
 "nbformat_minor": 5
}
