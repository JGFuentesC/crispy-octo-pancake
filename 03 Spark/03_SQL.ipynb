{
 "cells": [
  {
   "cell_type": "code",
   "execution_count": 1,
   "id": "8b6f3365-9ea1-481d-b153-1b2c7e6c797f",
   "metadata": {},
   "outputs": [],
   "source": [
    "import findspark\n",
    "findspark.init()\n",
    "\n",
    "from pyspark.sql import SparkSession\n",
    "\n",
    "# Crear la sesión de Spark\n",
    "spark = SparkSession.builder.appName(\"Ejercicio1\").getOrCreate()\n"
   ]
  },
  {
   "cell_type": "code",
   "execution_count": 2,
   "id": "49bc73d2-dddc-454e-b7ff-826cabb865ce",
   "metadata": {},
   "outputs": [],
   "source": [
    "\n",
    "# Cargar el archivo CSV en un DataFrame\n",
    "df = spark.read.csv(\"personas.csv\", header=True, inferSchema=True)\n",
    "\n"
   ]
  },
  {
   "cell_type": "code",
   "execution_count": 3,
   "id": "caa8b9c3-d5ae-444f-a130-265ff3e0fb28",
   "metadata": {},
   "outputs": [
    {
     "name": "stdout",
     "output_type": "stream",
     "text": [
      "Consulta SQL: Personas mayores de 35 años\n",
      "+------+----+----------+\n",
      "|Nombre|Edad| Profesion|\n",
      "+------+----+----------+\n",
      "|   Bob|  45|    Doctor|\n",
      "| David|  41|  Profesor|\n",
      "|   Eve|  38|Arquitecta|\n",
      "+------+----+----------+\n",
      "\n",
      "Consulta SQL: Número de personas por profesión\n",
      "+----------+-----+\n",
      "| Profesion|Total|\n",
      "+----------+-----+\n",
      "|  Profesor|    1|\n",
      "| Ingeniera|    1|\n",
      "|Arquitecta|    1|\n",
      "|   Abogada|    1|\n",
      "|    Doctor|    1|\n",
      "+----------+-----+\n",
      "\n",
      "Consulta SQL: Personas ordenadas por edad (descendente)\n",
      "+------+----+----------+\n",
      "|Nombre|Edad| Profesion|\n",
      "+------+----+----------+\n",
      "|   Bob|  45|    Doctor|\n",
      "| David|  41|  Profesor|\n",
      "|   Eve|  38|Arquitecta|\n",
      "| Alice|  34| Ingeniera|\n",
      "| Cathy|  29|   Abogada|\n",
      "+------+----+----------+\n",
      "\n"
     ]
    }
   ],
   "source": [
    "# Registrar el DataFrame como una tabla temporal\n",
    "df.createOrReplaceTempView(\"personas\")\n",
    "\n",
    "# Realizar una consulta SQL para obtener las personas mayores de 35 años\n",
    "print(\"Consulta SQL: Personas mayores de 35 años\")\n",
    "spark.sql(\"SELECT Nombre, Edad, Profesion FROM personas WHERE Edad > 35\").show()\n",
    "\n",
    "# Contar cuántas personas hay por profesión usando SQL\n",
    "print(\"Consulta SQL: Número de personas por profesión\")\n",
    "spark.sql(\"SELECT Profesion, COUNT(*) AS Total FROM personas GROUP BY Profesion\").show()\n",
    "\n",
    "# Obtener las personas ordenadas por edad de forma descendente usando SQL\n",
    "print(\"Consulta SQL: Personas ordenadas por edad (descendente)\")\n",
    "spark.sql(\"SELECT * FROM personas ORDER BY Edad DESC\").show()\n"
   ]
  },
  {
   "cell_type": "code",
   "execution_count": null,
   "id": "a1c19510-e665-484d-8c03-6805d3e8328e",
   "metadata": {},
   "outputs": [],
   "source": []
  }
 ],
 "metadata": {
  "kernelspec": {
   "display_name": "Python 3 (ipykernel)",
   "language": "python",
   "name": "python3"
  },
  "language_info": {
   "codemirror_mode": {
    "name": "ipython",
    "version": 3
   },
   "file_extension": ".py",
   "mimetype": "text/x-python",
   "name": "python",
   "nbconvert_exporter": "python",
   "pygments_lexer": "ipython3",
   "version": "3.11.6"
  }
 },
 "nbformat": 4,
 "nbformat_minor": 5
}
