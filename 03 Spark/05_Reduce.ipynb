{
 "cells": [
  {
   "cell_type": "code",
   "execution_count": 1,
   "id": "b938f1eb-86b0-45cb-83e1-6b125b7e0924",
   "metadata": {},
   "outputs": [
    {
     "name": "stdout",
     "output_type": "stream",
     "text": [
      "La suma total utilizando un DataFrame es: 500000500000\n"
     ]
    }
   ],
   "source": [
    "import findspark\n",
    "findspark.init()\n",
    "\n",
    "from pyspark.sql import SparkSession\n",
    "from pyspark.sql.functions import sum as _sum\n",
    "\n",
    "# Crear la sesión de Spark\n",
    "spark = SparkSession.builder.appName(\"Ejercicio5\").getOrCreate()\n",
    "\n",
    "# Crear un RDD con una secuencia de números del 1 al 1 millón\n",
    "numeros = spark.sparkContext.parallelize(range(1, 1000001))\n",
    "\n",
    "# Convertir el RDD a un DataFrame\n",
    "df_numeros = numeros.map(lambda x: (x,)).toDF([\"Numero\"])\n",
    "\n",
    "# Sumar los números utilizando un DataFrame\n",
    "suma_total_df = df_numeros.agg(_sum(\"Numero\")).collect()[0][0]\n",
    "print(f\"La suma total utilizando un DataFrame es: {suma_total_df}\")\n"
   ]
  },
  {
   "cell_type": "code",
   "execution_count": null,
   "id": "32db2ba8-919d-459f-a264-51d63d45e51f",
   "metadata": {},
   "outputs": [],
   "source": []
  }
 ],
 "metadata": {
  "kernelspec": {
   "display_name": "Python 3 (ipykernel)",
   "language": "python",
   "name": "python3"
  },
  "language_info": {
   "codemirror_mode": {
    "name": "ipython",
    "version": 3
   },
   "file_extension": ".py",
   "mimetype": "text/x-python",
   "name": "python",
   "nbconvert_exporter": "python",
   "pygments_lexer": "ipython3",
   "version": "3.11.6"
  }
 },
 "nbformat": 4,
 "nbformat_minor": 5
}
