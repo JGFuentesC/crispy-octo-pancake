{
 "cells": [
  {
   "cell_type": "markdown",
   "id": "1773f5f8",
   "metadata": {},
   "source": [
    "## Dependencias"
   ]
  },
  {
   "cell_type": "code",
   "execution_count": null,
   "id": "b938f1eb-86b0-45cb-83e1-6b125b7e0924",
   "metadata": {},
   "outputs": [],
   "source": [
    "import findspark\n",
    "findspark.init()\n",
    "\n",
    "from pyspark.sql import SparkSession\n",
    "from pyspark.sql import functions as F\n",
    "\n",
    "from pyspark.ml.feature import StringIndexer, OneHotEncoder, VectorAssembler\n",
    "from pyspark.ml.classification import LogisticRegression\n",
    "from pyspark.ml.evaluation import BinaryClassificationEvaluator\n",
    "from pyspark.ml import Pipeline\n",
    "\n",
    "from glob import glob \n",
    "from functools import reduce \n",
    "\n",
    "# Crear la sesión de Spark\n",
    "spark = SparkSession.builder.appName(\"ML Pipeline\").getOrCreate()"
   ]
  },
  {
   "cell_type": "markdown",
   "id": "7c6f5465",
   "metadata": {},
   "source": [
    "## Lectura de datos "
   ]
  },
  {
   "cell_type": "code",
   "execution_count": null,
   "id": "eec06a81-faa9-45be-b648-a3c7f24680bf",
   "metadata": {},
   "outputs": [],
   "source": [
    "cols = ['User', 'Year', 'Month','Use Chip','Amount','Merchant State','Is Fraud?']\n",
    "names = ['id_user','year','month','txn_type','amount','state','is_fraud']\n",
    "df = spark.read.csv('work/data/txn*.csv',inferSchema=False,header=True).select(*cols).toDF(*names) # asume que estamos usando el kernel del compose, por eso hay que agregar el work/ al path\n",
    "df.printSchema()"
   ]
  },
  {
   "cell_type": "markdown",
   "id": "bce55858",
   "metadata": {},
   "source": [
    "### Filtros y calculos "
   ]
  },
  {
   "cell_type": "code",
   "execution_count": null,
   "id": "31575e42",
   "metadata": {},
   "outputs": [],
   "source": [
    "us_states = [\n",
    "    \"AL\", \"AK\", \"AZ\", \"AR\", \"CA\", \"CO\", \"CT\", \"DE\", \"FL\", \"GA\",\n",
    "    \"HI\", \"ID\", \"IL\", \"IN\", \"IA\", \"KS\", \"KY\", \"LA\", \"ME\", \"MD\",\n",
    "    \"MA\", \"MI\", \"MN\", \"MS\", \"MO\", \"MT\", \"NE\", \"NV\", \"NH\", \"NJ\",\n",
    "    \"NM\", \"NY\", \"NC\", \"ND\", \"OH\", \"OK\", \"OR\", \"PA\", \"RI\", \"SC\",\n",
    "    \"SD\", \"TN\", \"TX\", \"UT\", \"VT\", \"VA\", \"WA\", \"WV\", \"WI\", \"WY\"\n",
    "]\n",
    "df = df.withColumn('month',F.col('month').cast('int'))\n",
    "df = df.withColumn('year',F.col('year').cast('int'))\n",
    "df = df.withColumn('month', df['year']*100+df['month']).drop('year')\n",
    "df = df.filter(F.col('state').isin(us_states))\n",
    "df = df.withColumn('is_fraud', F.when(F.col('is_fraud') == 'Yes', 1).otherwise(0))\n",
    "df = df.withColumn('amount', F.regexp_replace('amount', '\\\\$', '').cast('double'))\n",
    "df.printSchema()"
   ]
  },
  {
   "cell_type": "markdown",
   "id": "cb2eea16",
   "metadata": {},
   "source": [
    "## Ingeniería de características en retrospectiva para detectar patrones anómalos "
   ]
  },
  {
   "cell_type": "code",
   "execution_count": null,
   "id": "b571a782",
   "metadata": {},
   "outputs": [],
   "source": [
    "df.createOrReplaceTempView('transactions')"
   ]
  },
  {
   "cell_type": "code",
   "execution_count": null,
   "id": "ccc5bd86",
   "metadata": {},
   "outputs": [],
   "source": [
    "# proporción entre el promedio de los últimos 6 meses de transacciones por usuario y el monto de la transacción actual\n",
    "query = \"\"\"\n",
    "WITH userMonthlyAgg AS (\n",
    "    SELECT \n",
    "        id_user, \n",
    "        month, \n",
    "        SUM(amount) AS monto, \n",
    "        COUNT(*) AS num_txn  \n",
    "    FROM transactions \n",
    "    GROUP BY id_user, month\n",
    "),\n",
    "userMonthlyAggWithWindow AS (\n",
    "SELECT \n",
    "    id_user, \n",
    "    month,\n",
    "    SUM(monto) OVER (\n",
    "        PARTITION BY id_user \n",
    "        ORDER BY month \n",
    "        ROWS BETWEEN 6 PRECEDING AND 1 PRECEDING\n",
    "    ) AS sum_last_6_months,\n",
    "    SUM(num_txn) OVER (\n",
    "        PARTITION BY id_user \n",
    "        ORDER BY month \n",
    "        ROWS BETWEEN 6 PRECEDING AND 1 PRECEDING\n",
    "    ) AS num_txn_last_6_months,\n",
    "    ROW_NUMBER() OVER (\n",
    "        PARTITION BY id_user \n",
    "        ORDER BY month\n",
    "    ) AS row_num,\n",
    "    monto,\n",
    "    num_txn\n",
    "FROM userMonthlyAgg\n",
    "ORDER BY id_user, month\n",
    ")\n",
    "select \n",
    "transactions.id_user,\n",
    "transactions.month,\n",
    "amount/(sum_last_6_months/num_txn_last_6_months) as c_ratio_amount_vs_avg_last_6_months,\n",
    "amount as c_amount,\n",
    "state as d_state,\n",
    "txn_type as d_txn_type,\n",
    "is_fraud\n",
    " from userMonthlyAggWithWindow\n",
    "inner join transactions on userMonthlyAggWithWindow.id_user = transactions.id_user and userMonthlyAggWithWindow.month = transactions.month\n",
    "where row_num > 6\n",
    ";\n",
    "\"\"\"\n",
    "tad = spark.sql(query)\n"
   ]
  },
  {
   "cell_type": "markdown",
   "id": "fbb888af",
   "metadata": {},
   "source": [
    "## Definición de variables "
   ]
  },
  {
   "cell_type": "code",
   "execution_count": null,
   "id": "c63f8b10",
   "metadata": {},
   "outputs": [],
   "source": [
    "varc = [v for v in tad.columns if v.startswith('c_')]\n",
    "vard = [v for v in tad.columns if v.startswith('d_')]\n",
    "len(varc), len(vard),varc,vard"
   ]
  },
  {
   "cell_type": "markdown",
   "id": "14ac5ec2",
   "metadata": {},
   "source": [
    "## Partición "
   ]
  },
  {
   "cell_type": "code",
   "execution_count": null,
   "id": "69605974",
   "metadata": {},
   "outputs": [],
   "source": [
    "train, valid = tad.randomSplit([0.8, 0.2], seed=42)"
   ]
  },
  {
   "cell_type": "code",
   "execution_count": null,
   "id": "3dc27dbe",
   "metadata": {},
   "outputs": [],
   "source": [
    "## Crear vectores de características\n",
    "train.show(5)"
   ]
  },
  {
   "cell_type": "markdown",
   "id": "5e015418",
   "metadata": {},
   "source": [
    "## Preparar los datos para el modelo"
   ]
  },
  {
   "cell_type": "code",
   "execution_count": null,
   "id": "cbd1e766",
   "metadata": {},
   "outputs": [],
   "source": [
    "indexers = [\n",
    "    StringIndexer(inputCol=\"d_state\", outputCol=\"d_state_index\"),\n",
    "    StringIndexer(inputCol=\"d_txn_type\", outputCol=\"d_txn_type_index\")\n",
    "]\n",
    "\n",
    "encoders = [\n",
    "    OneHotEncoder(inputCol=\"d_state_index\", outputCol=\"d_state_encoded\"),\n",
    "    OneHotEncoder(inputCol=\"d_txn_type_index\", outputCol=\"d_txn_type_encoded\")\n",
    "]\n",
    "\n",
    "feature_cols = [\"c_ratio_amount_vs_avg_last_6_months\", \"c_amount\", \"d_state_encoded\", \"d_txn_type_encoded\"]\n",
    "assembler = VectorAssembler(inputCols=feature_cols, outputCol=\"features\")"
   ]
  },
  {
   "cell_type": "code",
   "execution_count": null,
   "id": "55fed7dd",
   "metadata": {},
   "outputs": [],
   "source": [
    "log_reg = LogisticRegression(featuresCol=\"features\", labelCol=\"is_fraud\")\n"
   ]
  },
  {
   "cell_type": "code",
   "execution_count": null,
   "id": "85c9e4a7",
   "metadata": {},
   "outputs": [],
   "source": [
    "pipeline = Pipeline(stages=indexers + encoders + [assembler, log_reg])\n",
    "model = pipeline.fit(train)"
   ]
  },
  {
   "cell_type": "code",
   "execution_count": null,
   "id": "a3b79e41",
   "metadata": {},
   "outputs": [],
   "source": [
    "predictions = model.transform(valid)\n",
    "predictions.select(\"id_user\", \"month\", \"features\", \"is_fraud\", \"prediction\", \"probability\").show()\n"
   ]
  },
  {
   "cell_type": "code",
   "execution_count": null,
   "id": "8b1b0fe7",
   "metadata": {},
   "outputs": [],
   "source": [
    "evaluator = BinaryClassificationEvaluator(labelCol=\"is_fraud\", rawPredictionCol=\"prediction\", metricName=\"areaUnderROC\")\n",
    "roc_auc = evaluator.evaluate(predictions)\n",
    "print(f\"ROC-AUC Score: {roc_auc:.4f}\")"
   ]
  }
 ],
 "metadata": {
  "kernelspec": {
   "display_name": "Python 3 (ipykernel)",
   "language": "python",
   "name": "python3"
  },
  "language_info": {
   "codemirror_mode": {
    "name": "ipython",
    "version": 3
   },
   "file_extension": ".py",
   "mimetype": "text/x-python",
   "name": "python",
   "nbconvert_exporter": "python",
   "pygments_lexer": "ipython3",
   "version": "3.11.6"
  }
 },
 "nbformat": 4,
 "nbformat_minor": 5
}
