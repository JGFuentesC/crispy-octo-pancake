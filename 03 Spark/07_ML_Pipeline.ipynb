{
 "cells": [
  {
   "cell_type": "markdown",
   "id": "1773f5f8",
   "metadata": {},
   "source": [
    "## Dependencias"
   ]
  },
  {
   "cell_type": "code",
   "execution_count": 1,
   "id": "b938f1eb-86b0-45cb-83e1-6b125b7e0924",
   "metadata": {},
   "outputs": [],
   "source": [
    "import findspark\n",
    "findspark.init()\n",
    "\n",
    "from pyspark.sql import SparkSession\n",
    "from pyspark.sql import functions as F\n",
    "\n",
    "from pyspark.ml.feature import StringIndexer, OneHotEncoder, VectorAssembler\n",
    "from pyspark.ml.classification import LogisticRegression\n",
    "from pyspark.ml.evaluation import BinaryClassificationEvaluator\n",
    "from pyspark.ml import Pipeline\n",
    "\n",
    "\n",
    "# Crear la sesión de Spark\n",
    "spark = SparkSession.builder.appName(\"ML Pipeline\").getOrCreate()"
   ]
  },
  {
   "cell_type": "markdown",
   "id": "7c6f5465",
   "metadata": {},
   "source": [
    "## Lectura de datos "
   ]
  },
  {
   "cell_type": "code",
   "execution_count": null,
   "id": "d7d3195d",
   "metadata": {},
   "outputs": [],
   "source": []
  },
  {
   "cell_type": "code",
   "execution_count": 2,
   "id": "eec06a81-faa9-45be-b648-a3c7f24680bf",
   "metadata": {},
   "outputs": [
    {
     "name": "stdout",
     "output_type": "stream",
     "text": [
      "root\n",
      " |-- id_user: string (nullable = true)\n",
      " |-- year: string (nullable = true)\n",
      " |-- month: string (nullable = true)\n",
      " |-- txn_type: string (nullable = true)\n",
      " |-- amount: string (nullable = true)\n",
      " |-- state: string (nullable = true)\n",
      " |-- is_fraud: string (nullable = true)\n",
      "\n"
     ]
    }
   ],
   "source": [
    "cols = ['User', 'Year', 'Month','Use Chip','Amount','Merchant State','Is Fraud?']\n",
    "names = ['id_user','year','month','txn_type','amount','state','is_fraud']\n",
    "df = spark.read.csv('work/data/txn*.csv',inferSchema=False,header=True).select(*cols).toDF(*names) # asume que estamos usando el kernel del compose, por eso hay que agregar el work/ al path\n",
    "df = df.sample(False, 0.05)\n",
    "df.printSchema()"
   ]
  },
  {
   "cell_type": "code",
   "execution_count": 3,
   "id": "ae65b50b",
   "metadata": {},
   "outputs": [
    {
     "data": {
      "text/plain": [
       "1217821"
      ]
     },
     "execution_count": 3,
     "metadata": {},
     "output_type": "execute_result"
    }
   ],
   "source": [
    "df.count()"
   ]
  },
  {
   "cell_type": "markdown",
   "id": "bce55858",
   "metadata": {},
   "source": [
    "### Filtros y calculos "
   ]
  },
  {
   "cell_type": "code",
   "execution_count": 4,
   "id": "31575e42",
   "metadata": {},
   "outputs": [
    {
     "name": "stdout",
     "output_type": "stream",
     "text": [
      "root\n",
      " |-- id_user: string (nullable = true)\n",
      " |-- month: integer (nullable = true)\n",
      " |-- txn_type: string (nullable = true)\n",
      " |-- amount: double (nullable = true)\n",
      " |-- state: string (nullable = true)\n",
      " |-- is_fraud: integer (nullable = false)\n",
      "\n"
     ]
    }
   ],
   "source": [
    "us_states = [\n",
    "    \"AL\", \"AK\", \"AZ\", \"AR\", \"CA\", \"CO\", \"CT\", \"DE\", \"FL\", \"GA\",\n",
    "    \"HI\", \"ID\", \"IL\", \"IN\", \"IA\", \"KS\", \"KY\", \"LA\", \"ME\", \"MD\",\n",
    "    \"MA\", \"MI\", \"MN\", \"MS\", \"MO\", \"MT\", \"NE\", \"NV\", \"NH\", \"NJ\",\n",
    "    \"NM\", \"NY\", \"NC\", \"ND\", \"OH\", \"OK\", \"OR\", \"PA\", \"RI\", \"SC\",\n",
    "    \"SD\", \"TN\", \"TX\", \"UT\", \"VT\", \"VA\", \"WA\", \"WV\", \"WI\", \"WY\"\n",
    "]\n",
    "df = df.withColumn('month',F.col('month').cast('int'))\n",
    "df = df.withColumn('year',F.col('year').cast('int'))\n",
    "df = df.withColumn('month', df['year']*100+df['month']).drop('year')\n",
    "df = df.filter(F.col('state').isin(us_states))\n",
    "df = df.withColumn('is_fraud', F.when(F.col('is_fraud') == 'Yes', 1).otherwise(0))\n",
    "df = df.withColumn('amount', F.regexp_replace('amount', '\\\\$', '').cast('double'))\n",
    "df.printSchema()"
   ]
  },
  {
   "cell_type": "markdown",
   "id": "cb2eea16",
   "metadata": {},
   "source": [
    "## Ingeniería de características en retrospectiva para detectar patrones anómalos "
   ]
  },
  {
   "cell_type": "code",
   "execution_count": 5,
   "id": "12d9809b",
   "metadata": {},
   "outputs": [],
   "source": [
    "df = df.cache()"
   ]
  },
  {
   "cell_type": "code",
   "execution_count": 6,
   "id": "b571a782",
   "metadata": {},
   "outputs": [],
   "source": [
    "df.createOrReplaceTempView('transactions')"
   ]
  },
  {
   "cell_type": "code",
   "execution_count": 7,
   "id": "ccc5bd86",
   "metadata": {},
   "outputs": [],
   "source": [
    "# proporción entre el promedio de los últimos 6 meses de transacciones por usuario y el monto de la transacción actual\n",
    "query = \"\"\"\n",
    "WITH userMonthlyAgg AS (\n",
    "    SELECT \n",
    "        id_user, \n",
    "        month, \n",
    "        SUM(amount) AS monto, \n",
    "        COUNT(*) AS num_txn  \n",
    "    FROM transactions \n",
    "    GROUP BY id_user, month\n",
    "),\n",
    "userMonthlyAggWithWindow AS (\n",
    "SELECT \n",
    "    id_user, \n",
    "    month,\n",
    "    SUM(monto) OVER (\n",
    "        PARTITION BY id_user \n",
    "        ORDER BY month \n",
    "        ROWS BETWEEN 6 PRECEDING AND 1 PRECEDING\n",
    "    ) AS sum_last_6_months,\n",
    "    SUM(num_txn) OVER (\n",
    "        PARTITION BY id_user \n",
    "        ORDER BY month \n",
    "        ROWS BETWEEN 6 PRECEDING AND 1 PRECEDING\n",
    "    ) AS num_txn_last_6_months,\n",
    "    ROW_NUMBER() OVER (\n",
    "        PARTITION BY id_user \n",
    "        ORDER BY month\n",
    "    ) AS row_num,\n",
    "    monto,\n",
    "    num_txn\n",
    "FROM userMonthlyAgg\n",
    "ORDER BY id_user, month\n",
    ")\n",
    "select \n",
    "transactions.id_user,\n",
    "transactions.month,\n",
    "amount/(sum_last_6_months/num_txn_last_6_months) as c_ratio_amount_vs_avg_last_6_months,\n",
    "amount as c_amount,\n",
    "state as d_state,\n",
    "txn_type as d_txn_type,\n",
    "is_fraud\n",
    " from userMonthlyAggWithWindow\n",
    "inner join transactions on userMonthlyAggWithWindow.id_user = transactions.id_user and userMonthlyAggWithWindow.month = transactions.month\n",
    "where row_num > 6\n",
    ";\n",
    "\"\"\"\n",
    "tad = spark.sql(query)\n"
   ]
  },
  {
   "cell_type": "markdown",
   "id": "fbb888af",
   "metadata": {},
   "source": [
    "## Definición de variables "
   ]
  },
  {
   "cell_type": "code",
   "execution_count": 8,
   "id": "c63f8b10",
   "metadata": {},
   "outputs": [
    {
     "data": {
      "text/plain": [
       "(2,\n",
       " 2,\n",
       " ['c_ratio_amount_vs_avg_last_6_months', 'c_amount'],\n",
       " ['d_state', 'd_txn_type'])"
      ]
     },
     "execution_count": 8,
     "metadata": {},
     "output_type": "execute_result"
    }
   ],
   "source": [
    "varc = [v for v in tad.columns if v.startswith('c_')]\n",
    "vard = [v for v in tad.columns if v.startswith('d_')]\n",
    "len(varc), len(vard),varc,vard"
   ]
  },
  {
   "cell_type": "markdown",
   "id": "14ac5ec2",
   "metadata": {},
   "source": [
    "## Partición "
   ]
  },
  {
   "cell_type": "code",
   "execution_count": 9,
   "id": "69605974",
   "metadata": {},
   "outputs": [],
   "source": [
    "train, valid = tad.randomSplit([0.8, 0.2], seed=42)"
   ]
  },
  {
   "cell_type": "code",
   "execution_count": 10,
   "id": "3dc27dbe",
   "metadata": {},
   "outputs": [
    {
     "name": "stdout",
     "output_type": "stream",
     "text": [
      "+-------+------+-----------------------------------+--------+-------+-----------------+--------+\n",
      "|id_user| month|c_ratio_amount_vs_avg_last_6_months|c_amount|d_state|       d_txn_type|is_fraud|\n",
      "+-------+------+-----------------------------------+--------+-------+-----------------+--------+\n",
      "|      0|200311|                -1.0190541903296002|   -88.0|     CA|Swipe Transaction|       0|\n",
      "|      0|200311|                 0.5095270951648001|    44.0|     CA|Swipe Transaction|       0|\n",
      "|      0|200311|                 1.2071160090904265|  104.24|     CA|Swipe Transaction|       0|\n",
      "|      0|200311|                 1.5112110436137822|   130.5|     CA|Swipe Transaction|       0|\n",
      "|      0|200311|                  1.621222575524364|   140.0|     CA|Swipe Transaction|       0|\n",
      "+-------+------+-----------------------------------+--------+-------+-----------------+--------+\n",
      "only showing top 5 rows\n",
      "\n"
     ]
    }
   ],
   "source": [
    "## Crear vectores de características\n",
    "train.show(5)"
   ]
  },
  {
   "cell_type": "code",
   "execution_count": 11,
   "id": "fcc8f90c",
   "metadata": {},
   "outputs": [
    {
     "name": "stdout",
     "output_type": "stream",
     "text": [
      "+--------+------+\n",
      "|is_fraud| count|\n",
      "+--------+------+\n",
      "|       1|   162|\n",
      "|       0|828082|\n",
      "+--------+------+\n",
      "\n"
     ]
    }
   ],
   "source": [
    "train.groupBy('is_fraud').count().show()"
   ]
  },
  {
   "cell_type": "markdown",
   "id": "5e015418",
   "metadata": {},
   "source": [
    "## Preparar los datos para el modelo"
   ]
  },
  {
   "cell_type": "code",
   "execution_count": 12,
   "id": "cbd1e766",
   "metadata": {},
   "outputs": [],
   "source": [
    "indexers = [\n",
    "    StringIndexer(inputCol=\"d_state\", outputCol=\"d_state_index\"),\n",
    "    StringIndexer(inputCol=\"d_txn_type\", outputCol=\"d_txn_type_index\")\n",
    "]\n",
    "\n",
    "encoders = [\n",
    "    OneHotEncoder(inputCol=\"d_state_index\", outputCol=\"d_state_encoded\"),\n",
    "    OneHotEncoder(inputCol=\"d_txn_type_index\", outputCol=\"d_txn_type_encoded\")\n",
    "]\n",
    "\n",
    "feature_cols = [\"c_ratio_amount_vs_avg_last_6_months\", \"c_amount\", \"d_state_encoded\", \"d_txn_type_encoded\"]\n",
    "assembler = VectorAssembler(inputCols=feature_cols, outputCol=\"features\")"
   ]
  },
  {
   "cell_type": "code",
   "execution_count": 13,
   "id": "55fed7dd",
   "metadata": {},
   "outputs": [],
   "source": [
    "log_reg = LogisticRegression(featuresCol=\"features\", labelCol=\"is_fraud\")\n"
   ]
  },
  {
   "cell_type": "code",
   "execution_count": 14,
   "id": "85c9e4a7",
   "metadata": {},
   "outputs": [],
   "source": [
    "pipeline = Pipeline(stages=indexers + encoders + [assembler, log_reg])\n",
    "model = pipeline.fit(train)"
   ]
  },
  {
   "cell_type": "code",
   "execution_count": 16,
   "id": "a3b79e41",
   "metadata": {},
   "outputs": [
    {
     "name": "stdout",
     "output_type": "stream",
     "text": [
      "+-------+------+--------------------+--------+----------+--------------------+\n",
      "|id_user| month|            features|is_fraud|prediction|         probability|\n",
      "+-------+------+--------------------+--------+----------+--------------------+\n",
      "|      0|200311|(52,[0,1,2,51],[0...|       0|       0.0|[0.99971969020228...|\n",
      "|      0|200311|(52,[0,1,2,51],[1...|       0|       0.0|[0.99966026276556...|\n",
      "|      0|200511|(52,[0,1,7,51],[0...|       0|       0.0|[0.99992239391422...|\n",
      "|      0|200512|(52,[0,1,2,51],[-...|       0|       0.0|[0.99979280336037...|\n",
      "|      0|200603|(52,[0,1,2,51],[0...|       0|       0.0|[0.99974652870711...|\n",
      "|      0|200603|(52,[0,1,2,51],[1...|       0|       0.0|[0.99969583616232...|\n",
      "|      0|201206|(52,[0,1,2,51],[0...|       0|       0.0|[0.99973212325902...|\n",
      "|      0|201206|(52,[0,1,2,51],[1...|       0|       0.0|[0.99964424289491...|\n",
      "|      0|201303|(52,[0,1,2,51],[0...|       0|       0.0|[0.99974132109055...|\n",
      "|      0|201303|(52,[0,1,2,51],[3...|       0|       0.0|[0.99964894036381...|\n",
      "|      0|201303|(52,[0,1,2,51],[3...|       0|       0.0|[0.99963127784156...|\n",
      "|      0|201405|(52,[0,1,2,51],[0...|       0|       0.0|[0.99973989242868...|\n",
      "|      0|201412|(52,[0,1,2,51],[0...|       0|       0.0|[0.99973663900168...|\n",
      "|      0|201708|(52,[0,1,2],[0.42...|       0|       0.0|[0.99988745593836...|\n",
      "|      0|201806|(52,[0,1,2,51],[1...|       0|       0.0|[0.99966194812471...|\n",
      "|      0|201904|(52,[0,1,2,51],[0...|       0|       0.0|[0.99973226856211...|\n",
      "|      1|200406|(52,[0,1,5,51],[0...|       0|       0.0|[0.99973621458866...|\n",
      "|      1|201005|(52,[0,1,5,51],[0...|       0|       0.0|[0.99977251289030...|\n",
      "|      1|201206|(52,[0,1,5,51],[1...|       0|       0.0|[0.99972623090922...|\n",
      "|      1|201401|(52,[0,1,5,51],[0...|       0|       0.0|[0.99974722335961...|\n",
      "+-------+------+--------------------+--------+----------+--------------------+\n",
      "only showing top 20 rows\n",
      "\n"
     ]
    }
   ],
   "source": [
    "predictions = model.transform(valid)\n",
    "predictions.select(\"id_user\", \"month\", \"features\", \"is_fraud\", \"prediction\", \"probability\").show()\n"
   ]
  },
  {
   "cell_type": "code",
   "execution_count": 17,
   "id": "8b1b0fe7",
   "metadata": {},
   "outputs": [
    {
     "name": "stdout",
     "output_type": "stream",
     "text": [
      "ROC-AUC Score: 0.5000\n"
     ]
    }
   ],
   "source": [
    "evaluator = BinaryClassificationEvaluator(labelCol=\"is_fraud\", \n",
    "                                          rawPredictionCol=\"prediction\", \n",
    "                                          metricName=\"areaUnderROC\")\n",
    "roc_auc = evaluator.evaluate(predictions)\n",
    "print(f\"ROC-AUC Score: {roc_auc:.4f}\")"
   ]
  },
  {
   "cell_type": "code",
   "execution_count": null,
   "id": "d7c6e491",
   "metadata": {},
   "outputs": [],
   "source": []
  }
 ],
 "metadata": {
  "kernelspec": {
   "display_name": "Python 3 (ipykernel)",
   "language": "python",
   "name": "python3"
  },
  "language_info": {
   "codemirror_mode": {
    "name": "ipython",
    "version": 3
   },
   "file_extension": ".py",
   "mimetype": "text/x-python",
   "name": "python",
   "nbconvert_exporter": "python",
   "pygments_lexer": "ipython3",
   "version": "3.11.6"
  }
 },
 "nbformat": 4,
 "nbformat_minor": 5
}
