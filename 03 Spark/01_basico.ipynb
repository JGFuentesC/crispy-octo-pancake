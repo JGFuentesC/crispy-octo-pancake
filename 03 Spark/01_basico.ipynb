{
 "cells": [
  {
   "cell_type": "code",
   "execution_count": 1,
   "id": "8b6f3365-9ea1-481d-b153-1b2c7e6c797f",
   "metadata": {},
   "outputs": [],
   "source": [
    "import findspark\n",
    "findspark.init()\n",
    "\n",
    "from pyspark.sql import SparkSession\n",
    "\n",
    "# Crear la sesión de Spark\n",
    "spark = SparkSession.builder.appName(\"Ejercicio1\").getOrCreate()\n"
   ]
  },
  {
   "cell_type": "code",
   "execution_count": 3,
   "id": "49bc73d2-dddc-454e-b7ff-826cabb865ce",
   "metadata": {},
   "outputs": [
    {
     "name": "stdout",
     "output_type": "stream",
     "text": [
      "+------+----+----------+\n",
      "|Nombre|Edad| Profesion|\n",
      "+------+----+----------+\n",
      "| Alice|  34| Ingeniera|\n",
      "|   Bob|  45|    Doctor|\n",
      "| Cathy|  29|   Abogada|\n",
      "| David|  41|  Profesor|\n",
      "|   Eve|  38|Arquitecta|\n",
      "+------+----+----------+\n",
      "\n",
      "root\n",
      " |-- Nombre: string (nullable = true)\n",
      " |-- Edad: integer (nullable = true)\n",
      " |-- Profesion: string (nullable = true)\n",
      "\n",
      "Número de filas: 5\n",
      "+------+----------+\n",
      "|Nombre| Profesion|\n",
      "+------+----------+\n",
      "| Alice| Ingeniera|\n",
      "|   Bob|    Doctor|\n",
      "| Cathy|   Abogada|\n",
      "| David|  Profesor|\n",
      "|   Eve|Arquitecta|\n",
      "+------+----------+\n",
      "\n"
     ]
    }
   ],
   "source": [
    "\n",
    "# Cargar el archivo CSV en un DataFrame\n",
    "df = spark.read.csv(\"personas.csv\", header=True, inferSchema=True)\n",
    "\n",
    "# Mostrar los primeros registros\n",
    "df.show()\n",
    "\n",
    "# Mostrar el esquema del DataFrame\n",
    "df.printSchema()\n",
    "\n",
    "# Contar el número de filas\n",
    "print(f\"Número de filas: {df.count()}\")\n",
    "\n",
    "# Seleccionar las columnas Nombre y Profesion\n",
    "df.select(\"Nombre\", \"Profesion\").show()\n"
   ]
  },
  {
   "cell_type": "code",
   "execution_count": null,
   "id": "a1c19510-e665-484d-8c03-6805d3e8328e",
   "metadata": {},
   "outputs": [],
   "source": []
  }
 ],
 "metadata": {
  "kernelspec": {
   "display_name": "Python 3 (ipykernel)",
   "language": "python",
   "name": "python3"
  },
  "language_info": {
   "codemirror_mode": {
    "name": "ipython",
    "version": 3
   },
   "file_extension": ".py",
   "mimetype": "text/x-python",
   "name": "python",
   "nbconvert_exporter": "python",
   "pygments_lexer": "ipython3",
   "version": "3.11.6"
  }
 },
 "nbformat": 4,
 "nbformat_minor": 5
}
