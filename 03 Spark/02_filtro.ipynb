{
 "cells": [
  {
   "cell_type": "code",
   "execution_count": 1,
   "id": "8b6f3365-9ea1-481d-b153-1b2c7e6c797f",
   "metadata": {},
   "outputs": [],
   "source": [
    "import findspark\n",
    "findspark.init()\n",
    "\n",
    "from pyspark.sql import SparkSession\n",
    "\n",
    "# Crear la sesión de Spark\n",
    "spark = SparkSession.builder.appName(\"Ejercicio1\").getOrCreate()\n"
   ]
  },
  {
   "cell_type": "code",
   "execution_count": 2,
   "id": "49bc73d2-dddc-454e-b7ff-826cabb865ce",
   "metadata": {},
   "outputs": [],
   "source": [
    "\n",
    "# Cargar el archivo CSV en un DataFrame\n",
    "df = spark.read.csv(\"personas.csv\", header=True, inferSchema=True)\n",
    "\n"
   ]
  },
  {
   "cell_type": "code",
   "execution_count": 3,
   "id": "caa8b9c3-d5ae-444f-a130-265ff3e0fb28",
   "metadata": {},
   "outputs": [
    {
     "name": "stdout",
     "output_type": "stream",
     "text": [
      "Personas mayores de 35 años:\n",
      "+------+----+----------+\n",
      "|Nombre|Edad| Profesion|\n",
      "+------+----+----------+\n",
      "|   Bob|  45|    Doctor|\n",
      "| David|  41|  Profesor|\n",
      "|   Eve|  38|Arquitecta|\n",
      "+------+----+----------+\n",
      "\n",
      "Número de personas por profesión:\n",
      "+----------+-----+\n",
      "| Profesion|count|\n",
      "+----------+-----+\n",
      "|  Profesor|    1|\n",
      "| Ingeniera|    1|\n",
      "|Arquitecta|    1|\n",
      "|   Abogada|    1|\n",
      "|    Doctor|    1|\n",
      "+----------+-----+\n",
      "\n",
      "Personas ordenadas por edad (descendente):\n",
      "+------+----+----------+\n",
      "|Nombre|Edad| Profesion|\n",
      "+------+----+----------+\n",
      "|   Bob|  45|    Doctor|\n",
      "| David|  41|  Profesor|\n",
      "|   Eve|  38|Arquitecta|\n",
      "| Alice|  34| Ingeniera|\n",
      "| Cathy|  29|   Abogada|\n",
      "+------+----+----------+\n",
      "\n"
     ]
    }
   ],
   "source": [
    "# Filtrar personas mayores de 35 años\n",
    "df_filtered = df.filter(df[\"Edad\"] > 35)\n",
    "print(\"Personas mayores de 35 años:\")\n",
    "df_filtered.show()\n",
    "\n",
    "# Agrupar por profesión y contar cuántas personas tienen esa profesión\n",
    "df_grouped = df.groupBy(\"Profesion\").count()\n",
    "print(\"Número de personas por profesión:\")\n",
    "df_grouped.show()\n",
    "\n",
    "# Ordenar los resultados por edad de forma descendente\n",
    "df_sorted = df.orderBy(df[\"Edad\"].desc())\n",
    "print(\"Personas ordenadas por edad (descendente):\")\n",
    "df_sorted.show()\n"
   ]
  },
  {
   "cell_type": "code",
   "execution_count": null,
   "id": "a1c19510-e665-484d-8c03-6805d3e8328e",
   "metadata": {},
   "outputs": [],
   "source": []
  }
 ],
 "metadata": {
  "kernelspec": {
   "display_name": "Python 3 (ipykernel)",
   "language": "python",
   "name": "python3"
  },
  "language_info": {
   "codemirror_mode": {
    "name": "ipython",
    "version": 3
   },
   "file_extension": ".py",
   "mimetype": "text/x-python",
   "name": "python",
   "nbconvert_exporter": "python",
   "pygments_lexer": "ipython3",
   "version": "3.11.6"
  }
 },
 "nbformat": 4,
 "nbformat_minor": 5
}
